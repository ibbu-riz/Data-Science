{
  "nbformat": 4,
  "nbformat_minor": 0,
  "metadata": {
    "colab": {
      "name": "K Means Clustering Template.ipynb",
      "provenance": [],
      "include_colab_link": true
    },
    "kernelspec": {
      "name": "python3",
      "display_name": "Python 3"
    }
  },
  "cells": [
    {
      "cell_type": "markdown",
      "metadata": {
        "id": "view-in-github",
        "colab_type": "text"
      },
      "source": [
        "<a href=\"https://colab.research.google.com/github/ibbu-riz/Data-Science/blob/main/K_Means_Clustering_Flipkart_Data_Set%20(Age%20and%20Number%20of%20products%20purchased).ipynb\" target=\"_parent\"><img src=\"https://colab.research.google.com/assets/colab-badge.svg\" alt=\"Open In Colab\"/></a>"
      ]
    },
    {
      "cell_type": "markdown",
      "metadata": {
        "id": "Z-jZGC0q0aiY"
      },
      "source": [
        "# K Means Clustering (Age and Number of products purchased)"
      ]
    },
    {
      "cell_type": "markdown",
      "metadata": {
        "id": "jE4Rc_OO0eJM"
      },
      "source": [
        "## Importing libraries"
      ]
    },
    {
      "cell_type": "code",
      "metadata": {
        "id": "vYMhd1BbCutj"
      },
      "source": [
        "import numpy as np\n",
        "import matplotlib.pyplot as plt\n",
        "import pandas as pd"
      ],
      "execution_count": 3,
      "outputs": []
    },
    {
      "cell_type": "markdown",
      "metadata": {
        "id": "A9-xGHd20gY1"
      },
      "source": [
        "## Importing dataset"
      ]
    },
    {
      "cell_type": "code",
      "metadata": {
        "id": "SgSRuEvpDGSa"
      },
      "source": [
        "dataset = pd.read_csv('Flipkart data set.csv')\n",
        "X = dataset.iloc[:, [0, 1]].values"
      ],
      "execution_count": 4,
      "outputs": []
    },
    {
      "cell_type": "code",
      "metadata": {
        "colab": {
          "base_uri": "https://localhost:8080/"
        },
        "id": "qbjpc4kkDhWq",
        "outputId": "7da468b7-dab3-4075-836b-582381df3403"
      },
      "source": [
        "print(X)"
      ],
      "execution_count": 5,
      "outputs": [
        {
          "output_type": "stream",
          "name": "stdout",
          "text": [
            "[[52 75]\n",
            " [77 85]\n",
            " [82 58]\n",
            " [54 64]\n",
            " [36 40]\n",
            " [61  8]\n",
            " [28 68]\n",
            " [21 65]\n",
            " [97 60]\n",
            " [77 34]\n",
            " [21 65]\n",
            " [33 23]\n",
            " [60 74]\n",
            " [64 91]\n",
            " [20 61]\n",
            " [ 7 23]\n",
            " [21 14]\n",
            " [63 68]\n",
            " [17 98]\n",
            " [48 99]\n",
            " [46 63]\n",
            " [ 5 69]\n",
            " [48 75]\n",
            " [85 39]\n",
            " [26 70]\n",
            " [37 49]\n",
            " [73 68]\n",
            " [20 47]\n",
            " [82 30]\n",
            " [75 67]]\n"
          ]
        }
      ]
    },
    {
      "cell_type": "markdown",
      "metadata": {
        "id": "8REFJFGC0lRN"
      },
      "source": [
        "## Optimal number of clusters via Elbow Method"
      ]
    },
    {
      "cell_type": "code",
      "metadata": {
        "colab": {
          "base_uri": "https://localhost:8080/",
          "height": 295
        },
        "id": "EeR2y2lIDj47",
        "outputId": "a261c4da-a8a7-4842-ec66-833747e3c7b2"
      },
      "source": [
        "from sklearn.cluster import KMeans\n",
        "wcss = []\n",
        "\n",
        "for i in range(1, 11):\n",
        "  kmeans = KMeans(n_clusters = i, init = \"k-means++\", random_state = 21)\n",
        "  kmeans.fit(X)\n",
        "  wcss.append(kmeans.inertia_)\n",
        "\n",
        "plt.plot(range(1,11), wcss)\n",
        "plt.title(\"WCSS via Elbow method\")\n",
        "plt.xlabel(\"Number of clusters\")\n",
        "plt.ylabel(\"WCSS values\")\n",
        "plt.show()"
      ],
      "execution_count": 6,
      "outputs": [
        {
          "output_type": "display_data",
          "data": {
            "image/png": "[encoded data removed]",
            "text/plain": [
              "<Figure size 432x288 with 1 Axes>"
            ]
          },
          "metadata": {
            "needs_background": "light"
          }
        }
      ]
    },
    {
      "cell_type": "markdown",
      "metadata": {
        "id": "2QUFYaoH00H6"
      },
      "source": [
        "## K Means Model Training on Training set"
      ]
    },
    {
      "cell_type": "code",
      "metadata": {
        "id": "PMNnLorNFtsd"
      },
      "source": [
        "kmeans = KMeans(n_clusters = 4, init = 'k-means++', random_state = 42)\n",
        "y_means = kmeans.fit_predict(X)"
      ],
      "execution_count": 7,
      "outputs": []
    },
    {
      "cell_type": "code",
      "metadata": {
        "colab": {
          "base_uri": "https://localhost:8080/"
        },
        "id": "92NDXpCyIk7T",
        "outputId": "ff79c23a-19ab-4263-c995-ffe092e14d84"
      },
      "source": [
        "print(y_means)"
      ],
      "execution_count": 8,
      "outputs": [
        {
          "output_type": "stream",
          "name": "stdout",
          "text": [
            "[0 0 3 0 1 1 2 2 3 3 2 1 0 0 2 1 1 0 2 0 0 2 0 3 2 2 0 2 3 0]\n"
          ]
        }
      ]
    },
    {
      "cell_type": "markdown",
      "metadata": {
        "id": "-Dw4Khi70u9g"
      },
      "source": [
        "## Visualizing Clusters"
      ]
    },
    {
      "cell_type": "code",
      "metadata": {
        "colab": {
          "base_uri": "https://localhost:8080/",
          "height": 295
        },
        "id": "rXlbQJsxI1U7",
        "outputId": "487f7a4b-c674-49fa-e645-1a71f7304cc8"
      },
      "source": [
        "plt.scatter(X[y_means == 0, 0], X[y_means == 0, 1], s = 100, c = 'red', label = 'Cluster 1')\n",
        "plt.scatter(X[y_means == 1, 0], X[y_means == 1, 1], s = 100, c = 'green', label = 'Cluster 2')\n",
        "plt.scatter(X[y_means == 2, 0], X[y_means == 2, 1], s = 100, c = 'blue', label = 'Cluster 3')\n",
        "plt.scatter(X[y_means == 3, 0], X[y_means == 3, 1], s = 100, c = 'magenta', label = 'Cluster 4')\n",
        "plt.scatter(kmeans.cluster_centers_[:, 0], kmeans.cluster_centers_[:, 1], s = 300, c = 'black', label = 'Centroids')\n",
        "\n",
        "plt.title('Cluster of Flipkart users')\n",
        "plt.xlabel('Age')\n",
        "plt.ylabel('Internal Rating')\n",
        "plt.legend()\n",
        "plt.show()"
      ],
      "execution_count": 9,
      "outputs": [
        {
          "output_type": "display_data",
          "data": {
            "image/png": "[encoded data removed]",
            "text/plain": [
              "<Figure size 432x288 with 1 Axes>"
            ]
          },
          "metadata": {
            "needs_background": "light"
          }
        }
      ]
    }
  ]
}