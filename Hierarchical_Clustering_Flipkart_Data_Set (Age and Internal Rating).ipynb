{
  "nbformat": 4,
  "nbformat_minor": 0,
  "metadata": {
    "colab": {
      "name": "Copy of Hierarchical Clustering Template.ipynb",
      "provenance": [],
      "collapsed_sections": [],
      "include_colab_link": true
    },
    "kernelspec": {
      "name": "python3",
      "display_name": "Python 3"
    }
  },
  "cells": [
    {
      "cell_type": "markdown",
      "metadata": {
        "id": "view-in-github",
        "colab_type": "text"
      },
      "source": [
        "<a href=\"https://colab.research.google.com/github/ibbu-riz/Data-Science/blob/main/Hierarchical_Clustering_Flipkart_Data_Set%20(Age%20and%20Internal%20Rating).ipynb\" target=\"_parent\"><img src=\"https://colab.research.google.com/assets/colab-badge.svg\" alt=\"Open In Colab\"/></a>"
      ]
    },
    {
      "cell_type": "markdown",
      "metadata": {
        "id": "Z-jZGC0q0aiY"
      },
      "source": [
        "# Hierarchical Clustering (Age and Internal Rating)\n",
        "\n",
        "\n"
      ]
    },
    {
      "cell_type": "markdown",
      "metadata": {
        "id": "jE4Rc_OO0eJM"
      },
      "source": [
        "## Importing libraries"
      ]
    },
    {
      "cell_type": "code",
      "metadata": {
        "id": "RhRtWaR9pL50"
      },
      "source": [
        "import numpy as np\n",
        "import matplotlib.pyplot as plt\n",
        "import pandas as pd"
      ],
      "execution_count": 19,
      "outputs": []
    },
    {
      "cell_type": "markdown",
      "metadata": {
        "id": "A9-xGHd20gY1"
      },
      "source": [
        "## Importing dataset"
      ]
    },
    {
      "cell_type": "code",
      "metadata": {
        "id": "c5UiJ7HRp-Ar"
      },
      "source": [
        "dataset = pd.read_csv('Flipkart data set.csv')\n",
        "X = dataset.iloc[:, [0, 2]].values"
      ],
      "execution_count": 20,
      "outputs": []
    },
    {
      "cell_type": "code",
      "metadata": {
        "id": "3R5OXm1OqOK8",
        "colab": {
          "base_uri": "https://localhost:8080/"
        },
        "outputId": "8b65ea50-4f16-4df2-b70f-3a0c726977f4"
      },
      "source": [
        "print(X)"
      ],
      "execution_count": 21,
      "outputs": [
        {
          "output_type": "stream",
          "name": "stdout",
          "text": [
            "[[ 52  30]\n",
            " [ 77   1]\n",
            " [ 82   1]\n",
            " [ 54  16]\n",
            " [ 36  64]\n",
            " [ 61  63]\n",
            " [ 28  83]\n",
            " [ 21  53]\n",
            " [ 97  79]\n",
            " [ 77  58]\n",
            " [ 21 100]\n",
            " [ 33  18]\n",
            " [ 60   4]\n",
            " [ 64  54]\n",
            " [ 20   7]\n",
            " [  7  19]\n",
            " [ 21  30]\n",
            " [ 63  40]\n",
            " [ 17  72]\n",
            " [ 48  58]\n",
            " [ 46  11]\n",
            " [  5  52]\n",
            " [ 48  85]\n",
            " [ 85  74]\n",
            " [ 26  73]\n",
            " [ 37  27]\n",
            " [ 73  33]\n",
            " [ 20  79]\n",
            " [ 82  45]\n",
            " [ 75  67]]\n"
          ]
        }
      ]
    },
    {
      "cell_type": "markdown",
      "metadata": {
        "id": "8REFJFGC0lRN"
      },
      "source": [
        "## Optimal number of clusters via DendoGram"
      ]
    },
    {
      "cell_type": "code",
      "metadata": {
        "id": "d4G4LuhVqQ4o",
        "colab": {
          "base_uri": "https://localhost:8080/",
          "height": 319
        },
        "outputId": "372ffe75-d7d9-48d2-be2f-814c153dee37"
      },
      "source": [
        "import scipy.cluster.hierarchy as sch \n",
        "dendrogram = sch.dendrogram(sch.linkage(X, method = 'ward'))\n",
        "plt.title('Dendrogram')\n",
        "plt.xlabel('Age')\n",
        "plt.ylabel('Euclidean distance')"
      ],
      "execution_count": 22,
      "outputs": [
        {
          "output_type": "execute_result",
          "data": {
            "text/plain": [
              "Text(0, 0.5, 'Euclidean distance')"
            ]
          },
          "metadata": {},
          "execution_count": 22
        },
        {
          "output_type": "display_data",
          "data": {
            "image/png": "[encoded data removed]",
            "text/plain": [
              "<Figure size 432x288 with 1 Axes>"
            ]
          },
          "metadata": {
            "needs_background": "light"
          }
        }
      ]
    },
    {
      "cell_type": "markdown",
      "metadata": {
        "id": "2QUFYaoH00H6"
      },
      "source": [
        "## Hierarchical Clustering Model Training on Training set"
      ]
    },
    {
      "cell_type": "code",
      "metadata": {
        "id": "Ema-kopKrDxf"
      },
      "source": [
        "from sklearn.cluster import AgglomerativeClustering\n",
        "hc = AgglomerativeClustering(n_clusters = 8, affinity = 'euclidean', linkage = 'ward')\n",
        "yhc = hc.fit_predict(X)"
      ],
      "execution_count": 23,
      "outputs": []
    },
    {
      "cell_type": "markdown",
      "metadata": {
        "id": "-Dw4Khi70u9g"
      },
      "source": [
        "## Visualizing Clusters"
      ]
    },
    {
      "cell_type": "code",
      "metadata": {
        "id": "bo86ebGork4f",
        "colab": {
          "base_uri": "https://localhost:8080/",
          "height": 295
        },
        "outputId": "a5b0881e-c0ee-4d44-ea49-943b3cfa97af"
      },
      "source": [
        "plt.scatter(X[yhc == 0, 0], X[yhc == 0, 1], s = 100, c = 'red', label = 'Cluster 1')\n",
        "plt.scatter(X[yhc == 1, 0], X[yhc == 1, 1], s = 100, c = 'magenta', label = 'Cluster 2')\n",
        "plt.scatter(X[yhc == 2, 0], X[yhc == 2, 1], s = 100, c = 'cyan', label = 'Cluster 3')\n",
        "plt.scatter(X[yhc == 3, 0], X[yhc == 3, 1], s = 100, c = 'blue', label = 'Cluster 4')\n",
        "plt.scatter(X[yhc == 4, 0], X[yhc == 4, 1], s = 100, c = 'gray', label = 'Cluster 5')\n",
        "plt.scatter(X[yhc == 5, 0], X[yhc == 5, 1], s = 100, c = 'yellow', label = 'Cluster 6')\n",
        "plt.scatter(X[yhc == 6, 0], X[yhc == 6, 1], s = 100, c = 'green', label = 'Cluster 7')\n",
        "plt.scatter(X[yhc == 7, 0], X[yhc == 7, 1], s = 100, c = 'black', label = 'Cluster 8')\n",
        "\n",
        "plt.title('Flipkart Users')\n",
        "plt.xlabel('Age')\n",
        "plt.ylabel('Internal Rating')\n",
        "plt.legend()\n",
        "plt.show()"
      ],
      "execution_count": 24,
      "outputs": [
        {
          "output_type": "display_data",
          "data": {
            "image/png": "[encoded data removed]",
            "text/plain": [
              "<Figure size 432x288 with 1 Axes>"
            ]
          },
          "metadata": {
            "needs_background": "light"
          }
        }
      ]
    }
  ]
}