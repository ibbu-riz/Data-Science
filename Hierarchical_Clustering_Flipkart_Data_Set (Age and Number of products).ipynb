{
  "nbformat": 4,
  "nbformat_minor": 0,
  "metadata": {
    "colab": {
      "name": "Copy of Hierarchical Clustering Template.ipynb",
      "provenance": [],
      "collapsed_sections": [],
      "include_colab_link": true
    },
    "kernelspec": {
      "name": "python3",
      "display_name": "Python 3"
    }
  },
  "cells": [
    {
      "cell_type": "markdown",
      "metadata": {
        "id": "view-in-github",
        "colab_type": "text"
      },
      "source": [
        "<a href=\"https://colab.research.google.com/github/ibbu-riz/Data-Science/blob/main/Hierarchical_Clustering_Flipkart_Data_Set%20(Age%20and%20Number%20of%20products).ipynb\" target=\"_parent\"><img src=\"https://colab.research.google.com/assets/colab-badge.svg\" alt=\"Open In Colab\"/></a>"
      ]
    },
    {
      "cell_type": "markdown",
      "metadata": {
        "id": "Z-jZGC0q0aiY"
      },
      "source": [
        "# Hierarchical Clustering (Age and Number of products)\n",
        "\n",
        "\n"
      ]
    },
    {
      "cell_type": "markdown",
      "metadata": {
        "id": "jE4Rc_OO0eJM"
      },
      "source": [
        "## Importing libraries"
      ]
    },
    {
      "cell_type": "code",
      "metadata": {
        "id": "RhRtWaR9pL50"
      },
      "source": [
        "import numpy as np\n",
        "import matplotlib.pyplot as plt\n",
        "import pandas as pd"
      ],
      "execution_count": 13,
      "outputs": []
    },
    {
      "cell_type": "markdown",
      "metadata": {
        "id": "A9-xGHd20gY1"
      },
      "source": [
        "## Importing dataset"
      ]
    },
    {
      "cell_type": "code",
      "metadata": {
        "id": "c5UiJ7HRp-Ar"
      },
      "source": [
        "dataset = pd.read_csv('Flipkart data set.csv')\n",
        "X = dataset.iloc[:, [0, 1]].values"
      ],
      "execution_count": 14,
      "outputs": []
    },
    {
      "cell_type": "code",
      "metadata": {
        "id": "3R5OXm1OqOK8",
        "colab": {
          "base_uri": "https://localhost:8080/"
        },
        "outputId": "77c2d4d6-5ce9-4615-d6de-342852065f9d"
      },
      "source": [
        "print(X)"
      ],
      "execution_count": 15,
      "outputs": [
        {
          "output_type": "stream",
          "name": "stdout",
          "text": [
            "[[52 75]\n",
            " [77 85]\n",
            " [82 58]\n",
            " [54 64]\n",
            " [36 40]\n",
            " [61  8]\n",
            " [28 68]\n",
            " [21 65]\n",
            " [97 60]\n",
            " [77 34]\n",
            " [21 65]\n",
            " [33 23]\n",
            " [60 74]\n",
            " [64 91]\n",
            " [20 61]\n",
            " [ 7 23]\n",
            " [21 14]\n",
            " [63 68]\n",
            " [17 98]\n",
            " [48 99]\n",
            " [46 63]\n",
            " [ 5 69]\n",
            " [48 75]\n",
            " [85 39]\n",
            " [26 70]\n",
            " [37 49]\n",
            " [73 68]\n",
            " [20 47]\n",
            " [82 30]\n",
            " [75 67]]\n"
          ]
        }
      ]
    },
    {
      "cell_type": "markdown",
      "metadata": {
        "id": "8REFJFGC0lRN"
      },
      "source": [
        "## Optimal number of clusters via DendoGram"
      ]
    },
    {
      "cell_type": "code",
      "metadata": {
        "id": "d4G4LuhVqQ4o",
        "colab": {
          "base_uri": "https://localhost:8080/",
          "height": 319
        },
        "outputId": "e5472c6f-f1a0-4f9c-9fd7-f390da4f21fc"
      },
      "source": [
        "import scipy.cluster.hierarchy as sch \n",
        "dendrogram = sch.dendrogram(sch.linkage(X, method = 'ward'))\n",
        "plt.title('Dendrogram')\n",
        "plt.xlabel('Age')\n",
        "plt.ylabel('Euclidean distance')"
      ],
      "execution_count": 16,
      "outputs": [
        {
          "output_type": "execute_result",
          "data": {
            "text/plain": [
              "Text(0, 0.5, 'Euclidean distance')"
            ]
          },
          "metadata": {},
          "execution_count": 16
        },
        {
          "output_type": "display_data",
          "data": {
            "image/png": "[encoded data removed]",
            "text/plain": [
              "<Figure size 432x288 with 1 Axes>"
            ]
          },
          "metadata": {
            "needs_background": "light"
          }
        }
      ]
    },
    {
      "cell_type": "markdown",
      "metadata": {
        "id": "2QUFYaoH00H6"
      },
      "source": [
        "## Hierarchical Clustering Model Training on Training set"
      ]
    },
    {
      "cell_type": "code",
      "metadata": {
        "id": "Ema-kopKrDxf"
      },
      "source": [
        "from sklearn.cluster import AgglomerativeClustering\n",
        "hc = AgglomerativeClustering(n_clusters = 8, affinity = 'euclidean', linkage = 'ward')\n",
        "yhc = hc.fit_predict(X)"
      ],
      "execution_count": 17,
      "outputs": []
    },
    {
      "cell_type": "markdown",
      "metadata": {
        "id": "-Dw4Khi70u9g"
      },
      "source": [
        "## Visualizing Clusters"
      ]
    },
    {
      "cell_type": "code",
      "metadata": {
        "id": "bo86ebGork4f",
        "colab": {
          "base_uri": "https://localhost:8080/",
          "height": 295
        },
        "outputId": "ad6bb925-0b64-4b7e-d42b-bcd44f6ad91a"
      },
      "source": [
        "plt.scatter(X[yhc == 0, 0], X[yhc == 0, 1], s = 100, c = 'red', label = 'Cluster 1')\n",
        "plt.scatter(X[yhc == 1, 0], X[yhc == 1, 1], s = 100, c = 'magenta', label = 'Cluster 2')\n",
        "plt.scatter(X[yhc == 2, 0], X[yhc == 2, 1], s = 100, c = 'cyan', label = 'Cluster 3')\n",
        "plt.scatter(X[yhc == 3, 0], X[yhc == 3, 1], s = 100, c = 'blue', label = 'Cluster 4')\n",
        "plt.scatter(X[yhc == 4, 0], X[yhc == 4, 1], s = 100, c = 'gray', label = 'Cluster 5')\n",
        "plt.scatter(X[yhc == 5, 0], X[yhc == 5, 1], s = 100, c = 'yellow', label = 'Cluster 6')\n",
        "plt.scatter(X[yhc == 6, 0], X[yhc == 6, 1], s = 100, c = 'green', label = 'Cluster 7')\n",
        "plt.scatter(X[yhc == 7, 0], X[yhc == 7, 1], s = 100, c = 'black', label = 'Cluster 8')\n",
        "\n",
        "plt.title('Flipkart Users')\n",
        "plt.xlabel('Age')\n",
        "plt.ylabel('Number of products purchased')\n",
        "plt.legend()\n",
        "plt.show()"
      ],
      "execution_count": 18,
      "outputs": [
        {
          "output_type": "display_data",
          "data": {
            "image/png": "[encoded data removed]",
            "text/plain": [
              "<Figure size 432x288 with 1 Axes>"
            ]
          },
          "metadata": {
            "needs_background": "light"
          }
        }
      ]
    }
  ]
}